{
 "cells": [
  {
   "cell_type": "code",
   "execution_count": null,
   "id": "192f452a-0230-4f46-a138-095d8dd0c93c",
   "metadata": {
    "tags": []
   },
   "outputs": [],
   "source": [
    "#! pip install planet"
   ]
  },
  {
   "cell_type": "code",
   "execution_count": 1,
   "id": "2e354b45-e952-4998-961a-108181585118",
   "metadata": {
    "tags": []
   },
   "outputs": [],
   "source": [
    "import os\n",
    "import requests\n",
    "\n",
    "import math\n",
    "import rasterio\n",
    "import matplotlib.pyplot as plt\n",
    "import planet as planet"
   ]
  },
  {
   "cell_type": "code",
   "execution_count": 2,
   "id": "f4236765-3db4-4ba6-a7e5-4698ec834c2a",
   "metadata": {
    "tags": []
   },
   "outputs": [],
   "source": [
    "from requests.auth import HTTPBasicAuth"
   ]
  },
  {
   "cell_type": "markdown",
   "id": "30c28535-2085-40b4-bc28-4e5a216b333c",
   "metadata": {},
   "source": [
    "## Planet images"
   ]
  },
  {
   "cell_type": "code",
   "execution_count": null,
   "id": "dcbe6622-9341-434b-8d81-5dca980b6f47",
   "metadata": {
    "tags": []
   },
   "outputs": [],
   "source": [
    "# The area of interest (AOI) defined as a polygon\n",
    "usenge_aoi = {\n",
    "    \"type\":\n",
    "    \"Polygon\",\n",
    "    \"coordinates\": [[[34.072946,-0.10027800000000298],\n",
    "                     [34.099198,-0.10027800000000298],\n",
    "                     [34.099198,-0.06602800000000286],\n",
    "                     [34.072946,-0.06602800000000286],\n",
    "                     [34.072946,-0.10027800000000298]]]\n",
    "}\n",
    "\n",
    "# The item IDs we wish to order\n",
    "usenge_images = ['20220626_070918_80_2442', '20220626_070916_53_2442']"
   ]
  },
  {
   "cell_type": "code",
   "execution_count": null,
   "id": "8d2b7a5e-461e-4f61-9188-2d4701118a91",
   "metadata": {
    "tags": []
   },
   "outputs": [],
   "source": [
    "import geopandas as gpd\n",
    "\n",
    "gdf = gpd.read_file('~/Documents/Modules/Thesis/lake_victoria/data/Ayanga/explorer-ayanga-aoi.geojson')\n",
    "gdf.to_file('~/Documents/Modules/Thesis/lake_victoria/data/Ayanga/explorer-ayanga-aoi.shp')"
   ]
  },
  {
   "cell_type": "code",
   "execution_count": null,
   "id": "b997527f-b794-462a-8a47-b7ef9d781c45",
   "metadata": {
    "tags": []
   },
   "outputs": [],
   "source": [
    "# Google Earth Engine configuration\n",
    "cloud_config = planet.order_request.google_earth_engine(\n",
    "    project='lake-victoria', collection='ayanga-aoi')\n",
    "# Order delivery configuration\n",
    "delivery_config = planet.order_request.delivery(cloud_config=cloud_config)"
   ]
  },
  {
   "cell_type": "code",
   "execution_count": null,
   "id": "2003df0d-af2c-410a-8950-0dee7469d75a",
   "metadata": {
    "tags": []
   },
   "outputs": [],
   "source": [
    "# Product description for the order request\n",
    "data_products = [\n",
    "    planet.order_request.product(item_ids=usenge_images,\n",
    "                                 #product_bundle='analytic_udm2',\n",
    "                                 #item_type='PSScene'*/\n",
    "                                 product_bundle='analytic_udm2',\n",
    "                                 item_type='PSScene'\n",
    "                                )\n",
    "]\n",
    "\n",
    "# Build the order request\n",
    "usenge_order = planet.order_request.build_request(name='usenge_order',\n",
    "                                                products=data_products,\n",
    "                                                delivery=delivery_config)\n",
    "\n",
    "print(usenge_order)"
   ]
  },
  {
   "cell_type": "code",
   "execution_count": null,
   "id": "92fe8edd-c4cf-45bf-a935-f8be29102848",
   "metadata": {
    "tags": []
   },
   "outputs": [],
   "source": [
    " # Clip images to the AOI's perimeter and harmonize the data with Dove Classic\n",
    "tools = [\n",
    "    planet.order_request.clip_tool(iowa_aoi),\n",
    "    #planet.order_request.harmonize_tool('Sentinel-2')\n",
    "]\n",
    "\n",
    "# Build the order request\n",
    "usenge_order = planet.order_request.build_request(name='ayanga_order',\n",
    "                                                products=data_products,\n",
    "                                                delivery=delivery_config,\n",
    "                                                tools=tools)\n",
    "\n",
    "print(iowa_order)"
   ]
  },
  {
   "cell_type": "code",
   "execution_count": null,
   "id": "9b8237f0-2797-4c41-aa86-27c77deabb71",
   "metadata": {
    "tags": []
   },
   "outputs": [],
   "source": [
    "async def create_and_deliver_order(order_request, client):\n",
    "    '''Create and deliver an order.\n",
    "\n",
    "    Parameters:\n",
    "        order_request: An order request\n",
    "        client: An Order client object\n",
    "    '''\n",
    "    with planet.reporting.StateBar(state='creating') as reporter:\n",
    "        # Place an order to the Orders API\n",
    "        order = await client.create_order(order_request)\n",
    "        reporter.update(state='created', order_id=order['id'])\n",
    "        # Wait while the order is being completed\n",
    "        await client.wait(order['id'],\n",
    "                          callback=reporter.update_state,\n",
    "                          max_attempts=0)\n",
    "\n",
    "    # Grab the details of the orders\n",
    "    order_details = await client.get_order(order_id=order['id'])\n",
    "\n",
    "    return order_details"
   ]
  },
  {
   "cell_type": "code",
   "execution_count": null,
   "id": "329df657-6e64-40d4-b155-730dce7c95df",
   "metadata": {
    "tags": []
   },
   "outputs": [],
   "source": [
    "async with planet.Session() as ps:\n",
    "    # The Orders API client\n",
    "    client = ps.client('orders')\n",
    "    # Create the order and deliver it to GEE\n",
    "    order_details = await create_and_deliver_order(usenge_order, client)"
   ]
  },
  {
   "cell_type": "markdown",
   "id": "4708468c-5b5f-40ae-9fcb-f5c88ba3027c",
   "metadata": {},
   "source": [
    "### Sindo: Planet data"
   ]
  },
  {
   "cell_type": "code",
   "execution_count": 3,
   "id": "40adf3e4-21cc-41db-bc85-24d2612b64c3",
   "metadata": {
    "tags": []
   },
   "outputs": [
    {
     "data": {
      "text/plain": [
       "<open DatasetReader name='/Users/aida/Documents/Modules/Thesis/lake_victoria/data/Ogal/hamilton/Ogal.tif' mode='r'>"
      ]
     },
     "execution_count": 3,
     "metadata": {},
     "output_type": "execute_result"
    }
   ],
   "source": [
    "image_file = \"/Users/aida/Documents/Modules/Thesis/lake_victoria/data/Ogal/hamilton/Ogal.tif\"\n",
    "sat_data = rasterio.open(image_file)\n",
    "sat_data"
   ]
  },
  {
   "cell_type": "code",
   "execution_count": 4,
   "id": "770b7306-c366-4584-afaa-4fd9ccef1c7d",
   "metadata": {
    "tags": []
   },
   "outputs": [
    {
     "name": "stdout",
     "output_type": "stream",
     "text": [
      "Width: 4819.313910000026, Height: 3101.9163300003856\n"
     ]
    }
   ],
   "source": [
    "width_in_projected_units = sat_data.bounds.right - sat_data.bounds.left\n",
    "height_in_projected_units = sat_data.bounds.top - sat_data.bounds.bottom\n",
    "\n",
    "print(\"Width: {}, Height: {}\".format(width_in_projected_units, height_in_projected_units))\n"
   ]
  },
  {
   "cell_type": "code",
   "execution_count": 5,
   "id": "da07800c-8754-46db-80d2-93f8d6fef47a",
   "metadata": {
    "tags": []
   },
   "outputs": [
    {
     "name": "stdout",
     "output_type": "stream",
     "text": [
      "Rows: 57411, Columns: 89197\n"
     ]
    }
   ],
   "source": [
    "print(\"Rows: {}, Columns: {}\".format(sat_data.height, sat_data.width))"
   ]
  },
  {
   "cell_type": "code",
   "execution_count": 6,
   "id": "653f668e-5f27-4b1b-b639-b380ff8024cc",
   "metadata": {
    "tags": []
   },
   "outputs": [
    {
     "name": "stdout",
     "output_type": "stream",
     "text": [
      "4\n",
      "(1, 2, 3, 4)\n"
     ]
    }
   ],
   "source": [
    "print(sat_data.count)\n",
    "\n",
    "# sequence of band indexes\n",
    "print(sat_data.indexes)"
   ]
  },
  {
   "cell_type": "code",
   "execution_count": 7,
   "id": "05489c7d-0dfe-4591-8b1e-809552177673",
   "metadata": {
    "tags": []
   },
   "outputs": [],
   "source": [
    "# Load the 4 bands into 2d arrays - recall that we previously learned PlanetScope band order is BGRN.\n",
    "b, g, r, n = sat_data.read()"
   ]
  },
  {
   "cell_type": "code",
   "execution_count": 1,
   "id": "87c7a11c-ce73-4761-973d-81dfed9b98aa",
   "metadata": {
    "tags": []
   },
   "outputs": [
    {
     "ename": "NameError",
     "evalue": "name 'plt' is not defined",
     "output_type": "error",
     "traceback": [
      "\u001b[0;31m---------------------------------------------------------------------------\u001b[0m",
      "\u001b[0;31mNameError\u001b[0m                                 Traceback (most recent call last)",
      "Cell \u001b[0;32mIn[1], line 3\u001b[0m\n\u001b[1;32m      1\u001b[0m \u001b[38;5;66;03m# Displaying the blue band.\u001b[39;00m\n\u001b[0;32m----> 3\u001b[0m fig \u001b[38;5;241m=\u001b[39m \u001b[43mplt\u001b[49m\u001b[38;5;241m.\u001b[39mimshow(b)\n\u001b[1;32m      4\u001b[0m plt\u001b[38;5;241m.\u001b[39mshow()\n",
      "\u001b[0;31mNameError\u001b[0m: name 'plt' is not defined"
     ]
    }
   ],
   "source": [
    "# Displaying the blue band.\n",
    "\n",
    "fig = plt.imshow(b)\n",
    "plt.show()"
   ]
  },
  {
   "cell_type": "code",
   "execution_count": null,
   "id": "3d76f618-7330-4180-b60a-41e94a761a7b",
   "metadata": {
    "tags": []
   },
   "outputs": [],
   "source": [
    "# Displaying the green band.\n",
    "\n",
    "fig = plt.imshow(g)\n",
    "fig.set_cmap('gist_earth')\n",
    "plt.show()"
   ]
  },
  {
   "cell_type": "code",
   "execution_count": null,
   "id": "d79dd1cd-8cbf-4b73-b599-91594bd5333d",
   "metadata": {},
   "outputs": [],
   "source": []
  },
  {
   "cell_type": "code",
   "execution_count": null,
   "id": "b94ff62a-880b-451a-a341-0189d7597b4e",
   "metadata": {
    "tags": []
   },
   "outputs": [],
   "source": [
    "# Displaying the red band.\n",
    "\n",
    "fig = plt.imshow(r)\n",
    "fig.set_cmap('inferno')\n",
    "plt.colorbar()\n",
    "plt.show()"
   ]
  },
  {
   "cell_type": "code",
   "execution_count": null,
   "id": "f0038807-29a5-48e0-b107-e75fd4fce6b5",
   "metadata": {
    "tags": []
   },
   "outputs": [],
   "source": [
    "# Displaying the infrared band.\n",
    "\n",
    "fig = plt.imshow(n)\n",
    "fig.set_cmap('winter')\n",
    "plt.colorbar()\n",
    "plt.show()"
   ]
  },
  {
   "cell_type": "markdown",
   "id": "d280fe6c-ecb2-4f2d-8b30-d1e8176fdff3",
   "metadata": {},
   "source": [
    "## Sindo : Sentinel2 data"
   ]
  },
  {
   "cell_type": "code",
   "execution_count": null,
   "id": "d429fe7c-426d-44d0-a027-bdad2ccac0af",
   "metadata": {},
   "outputs": [],
   "source": [
    "import matplotlib.pyplot as plt\n",
    "import numpy as np\n",
    "import rasterio\n",
    "import os\n",
    "from osgeo import gdal"
   ]
  },
  {
   "cell_type": "code",
   "execution_count": null,
   "id": "dc5d6719-fe18-42cb-8c5b-4ae33bbad696",
   "metadata": {
    "tags": []
   },
   "outputs": [],
   "source": [
    "fp_in='../data'\n",
    "fp_out='../data'\n",
    "\n",
    "data_path = '/Sindo/HomaBayCounty_Sindo_July_10_sentinel2l1c_analytic/files/'\n",
    "\n",
    "fn_blue='T36MXE_20220710T074619_B02_clip'\n",
    "fn_green='T36MXE_20220710T074619_B03_clip'\n",
    "fn_red='T36MXE_20220710T074619_B04_clip'"
   ]
  },
  {
   "cell_type": "code",
   "execution_count": null,
   "id": "63a9a093-8d3d-4c0e-8d54-32347081b225",
   "metadata": {
    "tags": []
   },
   "outputs": [],
   "source": [
    "band_02=rasterio.open(fp_in+ data_path +fn_blue+'.tif')\n",
    "band_03=rasterio.open(fp_in+ data_path +fn_green+'.tif')\n",
    "band_04=rasterio.open(fp_in+ data_path +fn_red+'.tif')"
   ]
  },
  {
   "cell_type": "code",
   "execution_count": null,
   "id": "f4b9eca1-7356-4d9d-afec-f9dc0c034230",
   "metadata": {
    "tags": []
   },
   "outputs": [],
   "source": [
    "red = band_04.read(1)\n",
    "green = band_03.read(1)\n",
    "blue = band_02.read(1)"
   ]
  },
  {
   "cell_type": "code",
   "execution_count": null,
   "id": "1c39ef41-6fe5-4b18-a086-b681f841ff62",
   "metadata": {
    "tags": []
   },
   "outputs": [],
   "source": [
    "fig = plt.figure(figsize=(20,6))\n",
    "ax1 = fig.add_subplot(1,3,1)\n",
    "ax1.imshow(red, cmap='Reds')\n",
    "ax1 = fig.add_subplot(1,3,2)\n",
    "ax1.imshow(green, cmap='Greens')\n",
    "ax1 = fig.add_subplot(1,3,3)\n",
    "ax1.imshow(blue, cmap='Blues')"
   ]
  },
  {
   "cell_type": "code",
   "execution_count": null,
   "id": "a0110313-1763-4786-bc13-dd9f447fa289",
   "metadata": {
    "tags": []
   },
   "outputs": [],
   "source": [
    "def normalize(band):\n",
    "    band_min, band_max = (band.min(), band.max())\n",
    "    return ((band-band_min)/((band_max - band_min)))\n",
    "\n",
    "red_n = normalize(red)\n",
    "green_n = normalize(green)\n",
    "blue_n = normalize(blue)"
   ]
  },
  {
   "cell_type": "code",
   "execution_count": null,
   "id": "0d67085d-a2e2-4435-8f54-6dfc41873a2d",
   "metadata": {
    "tags": []
   },
   "outputs": [],
   "source": [
    "rgb_plot=plt.imshow(rgb_composite_n, interpolation='lanczos')\n",
    "plt.axis('off')\n"
   ]
  },
  {
   "cell_type": "code",
   "execution_count": null,
   "id": "494c166f-0a6d-4495-9c9a-fb0a296ce9f4",
   "metadata": {
    "tags": []
   },
   "outputs": [],
   "source": [
    "rgb_composite_n= np.dstack((red_n, green_n, blue_n))\n",
    "plt.imshow(rgb_composite_n)"
   ]
  },
  {
   "cell_type": "code",
   "execution_count": null,
   "id": "98f013fb-fdc2-45d4-919d-7a1aa7be46fa",
   "metadata": {
    "tags": []
   },
   "outputs": [],
   "source": [
    "Z = rgb_composite_n"
   ]
  },
  {
   "cell_type": "code",
   "execution_count": null,
   "id": "159e3c10-d1b2-408e-b87b-51fc1afac7de",
   "metadata": {
    "tags": []
   },
   "outputs": [],
   "source": [
    "new_dataset = rasterio.open(\n",
    "    fp_out + data_path + 'sentinel2_rgb_composite2.tif',\n",
    "    'w',\n",
    "    driver='GTiff',\n",
    "    height=Z.shape[0],\n",
    "    width=Z.shape[1],\n",
    "    count=1,\n",
    "    dtype=Z.dtype,\n",
    "    crs='+proj=latlong'\n",
    ")"
   ]
  },
  {
   "cell_type": "code",
   "execution_count": null,
   "id": "bc08f313-44b3-4124-bb0b-bace53a626f6",
   "metadata": {},
   "outputs": [],
   "source": []
  },
  {
   "cell_type": "code",
   "execution_count": null,
   "id": "9c0f3f6f-0ea8-4a87-8ccc-51c9c666d8c6",
   "metadata": {
    "tags": []
   },
   "outputs": [],
   "source": [
    "rgb_plot=plt.imshow(rgb_composite_n, interpolation='lanczos')\n",
    "plt.axis('off')\n",
    "plt.savefig(fp_out+ data_path + 'sentinel2_rgb_composite.png',dpi=200,bbox_inches='tight')\n",
    "plt.close('all')"
   ]
  },
  {
   "cell_type": "code",
   "execution_count": null,
   "id": "934dea4e-3349-4cc5-a10c-574ebd1e3ea7",
   "metadata": {},
   "outputs": [],
   "source": [
    "#rasterio.open(fp_in + data_path + 'sentinel2_rgb_composite2.tif')\n",
    "fp_in + data_path + 'sentinel2_rgb_composite2.tif'"
   ]
  },
  {
   "cell_type": "code",
   "execution_count": null,
   "id": "2d5709a2-a847-4ba1-88f4-a306d28dfd12",
   "metadata": {
    "tags": []
   },
   "outputs": [],
   "source": [
    "from bs4 import BeautifulSoup"
   ]
  },
  {
   "cell_type": "code",
   "execution_count": null,
   "id": "9b41ed0e-b823-4f0b-a6c8-570efe298e3e",
   "metadata": {
    "tags": []
   },
   "outputs": [],
   "source": [
    "# Reading the data inside the xml\n",
    "# file to a variable under the name\n",
    "# data\n",
    "path = '../data/Sindo/HomaBayCounty_Sindo_July_10_sentinel2l1c_analytic/files/S2B_MSIL1C_20220710T074619_N0400_R135_T36MXE_20220710T094014_metadata_aux_clip/'\n",
    "with open(path + 'MTD_MSIL1C.xml', 'r') as f:\n",
    "    data = f.read()\n",
    " \n",
    "# Passing the stored data inside\n",
    "# the beautifulsoup parser, storing\n",
    "# the returned object\n",
    "Bs_data = BeautifulSoup(data, \"xml\")\n",
    "\n",
    "b_unique = Bs_data.find_all('Radiometric_Offset_List')\n",
    "print(b_unique)"
   ]
  },
  {
   "cell_type": "code",
   "execution_count": null,
   "id": "5e34853f-29a8-44e4-951d-bacdcf71cdc7",
   "metadata": {},
   "outputs": [],
   "source": []
  }
 ],
 "metadata": {
  "kernelspec": {
   "display_name": "Python 3 (ipykernel)",
   "language": "python",
   "name": "python3"
  },
  "language_info": {
   "codemirror_mode": {
    "name": "ipython",
    "version": 3
   },
   "file_extension": ".py",
   "mimetype": "text/x-python",
   "name": "python",
   "nbconvert_exporter": "python",
   "pygments_lexer": "ipython3",
   "version": "3.8.16"
  }
 },
 "nbformat": 4,
 "nbformat_minor": 5
}
