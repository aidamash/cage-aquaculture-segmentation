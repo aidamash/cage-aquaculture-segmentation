{
 "cells": [
  {
   "cell_type": "code",
   "execution_count": 1,
   "id": "f96c0bef-929b-4308-940d-208e125f8616",
   "metadata": {
    "tags": []
   },
   "outputs": [],
   "source": [
    "import os\n",
    "import requests\n",
    "import asyncio\n",
    "\n",
    "import math\n",
    "import rasterio\n",
    "import matplotlib.pyplot as plt\n",
    "import planet\n",
    "from planet import Session\n",
    "\n",
    "from requests.auth import HTTPBasicAuth"
   ]
  },
  {
   "cell_type": "code",
   "execution_count": 50,
   "id": "1188cef0-2249-4126-8c0c-96e86c3560fb",
   "metadata": {
    "tags": []
   },
   "outputs": [],
   "source": [
    "#DOWNLOAD_DIR = \"~/Documents/Modules/Thesis/lake_victoria/data/\"\n",
    "\n",
    "DOWNLOAD_DIR = os.getenv('~/Documents/Modules/Thesis/lake_victoria/data/', '.')"
   ]
  },
  {
   "cell_type": "code",
   "execution_count": 51,
   "id": "48a3a8db-534e-4585-a157-ed5c47fb0695",
   "metadata": {
    "tags": []
   },
   "outputs": [],
   "source": [
    "def create_requests():\n",
    "    # The Orders API will be asked to mask, or clip, results to\n",
    "    # this area of interest.\n",
    "    usenge_aoi = {\n",
    "        \"type\":\n",
    "        \"Polygon\",\n",
    "        \"coordinates\": [[[34.058098,-0.11658900000000472],\n",
    "                         [34.10126,-0.11658900000000472],\n",
    "                         [34.10126,-0.07127399999998829],\n",
    "                         [34.058098,-0.07127399999998829],\n",
    "                         [34.058098,-0.11658900000000472]]]\n",
    "    }\n",
    "\n",
    "    # In practice, you will use a Data API search to find items, but\n",
    "    # for this example take them as given.\n",
    "    usenge_items = ['5740619_3639020_2022-06-26_2442', '5740619_3639019_2022-06-26_2442']\n",
    "\n",
    "    usenge_order = planet.order_request.build_request(\n",
    "        name='usenge_order',\n",
    "        products=[\n",
    "            planet.order_request.product(item_ids=usenge_items,\n",
    "                                         product_bundle='analytic_udm2',\n",
    "                                         item_type='PSOrthoTile')\n",
    "        ],\n",
    "        tools=[planet.order_request.clip_tool(aoi=usenge_aoi)])\n",
    "    mfangano_aoi = {\n",
    "        \"type\":\n",
    "        \"Polygon\",\n",
    "        \"coordinates\": [[[34.038471,-0.4648899999999969],\n",
    "                     [34.091724,-0.4648899999999969],\n",
    "                     [34.091724,-0.4226070000000135],\n",
    "                     [34.038471,-0.4226070000000135],\n",
    "                     [34.038471,-0.4648899999999969]]]\n",
    "    }\n",
    "    mfangano_items = ['5764977_3638819_2022-07-06_247a',\n",
    "                  '5764977_3638820_2022-07-06_247a',\n",
    "                  '5764977_3638919_2022-07-06_247a']\n",
    "    mfangano_order = planet.order_request.build_request(\n",
    "    name='mfangano_order',\n",
    "    products=[\n",
    "        planet.order_request.product(item_ids=mfangano_items,\n",
    "                                     product_bundle='analytic_udm2',\n",
    "                                     item_type='PSOrthoTile')\n",
    "    ],\n",
    "    tools=[planet.order_request.clip_tool(aoi=mfangano_aoi)])\n",
    "    return [usenge_order, mfangano_aoi] "
   ]
  },
  {
   "cell_type": "code",
   "execution_count": 60,
   "id": "01f2bb9b-ec7b-4aa6-906b-de8edf5830c8",
   "metadata": {
    "tags": []
   },
   "outputs": [],
   "source": [
    "async def create_and_download(client, order_detail, directory):\n",
    "    \"\"\"Make an order, wait for completion, download files as a single task.\"\"\"\n",
    "    with planet.reporting.StateBar(state='creating') as reporter:\n",
    "        order = await client.create_order(order_detail)\n",
    "        reporter.update(state='created', order_id=order['id'])\n",
    "        await client.wait(order['id'], callback=reporter.update_state)\n",
    "\n",
    "    await client.download_order(order['id'], directory, progress_bar=True)\n"
   ]
  },
  {
   "cell_type": "code",
   "execution_count": 59,
   "id": "e3d16900-ea23-4819-b0ba-825d0a94a2cc",
   "metadata": {
    "tags": []
   },
   "outputs": [
    {
     "ename": "RuntimeError",
     "evalue": "asyncio.run() cannot be called from a running event loop",
     "output_type": "error",
     "traceback": [
      "\u001b[0;31m---------------------------------------------------------------------------\u001b[0m",
      "\u001b[0;31mRuntimeError\u001b[0m                              Traceback (most recent call last)",
      "Cell \u001b[0;32mIn[59], line 13\u001b[0m\n\u001b[1;32m      5\u001b[0m         requests \u001b[38;5;241m=\u001b[39m create_requests()\n\u001b[1;32m      7\u001b[0m         \u001b[38;5;28;01mawait\u001b[39;00m asyncio\u001b[38;5;241m.\u001b[39mgather(\u001b[38;5;241m*\u001b[39m[\n\u001b[1;32m      8\u001b[0m             create_and_download(client, request, DOWNLOAD_DIR)\n\u001b[1;32m      9\u001b[0m             \u001b[38;5;28;01mfor\u001b[39;00m request \u001b[38;5;129;01min\u001b[39;00m requests\n\u001b[1;32m     10\u001b[0m         ])\n\u001b[0;32m---> 13\u001b[0m \u001b[43masyncio\u001b[49m\u001b[38;5;241;43m.\u001b[39;49m\u001b[43mrun\u001b[49m\u001b[43m(\u001b[49m\u001b[43mmain\u001b[49m\u001b[43m(\u001b[49m\u001b[43m)\u001b[49m\u001b[43m)\u001b[49m\n",
      "File \u001b[0;32m~/anaconda3/envs/earth-analytics-python/lib/python3.8/asyncio/runners.py:33\u001b[0m, in \u001b[0;36mrun\u001b[0;34m(main, debug)\u001b[0m\n\u001b[1;32m      9\u001b[0m \u001b[38;5;250m\u001b[39m\u001b[38;5;124;03m\"\"\"Execute the coroutine and return the result.\u001b[39;00m\n\u001b[1;32m     10\u001b[0m \n\u001b[1;32m     11\u001b[0m \u001b[38;5;124;03mThis function runs the passed coroutine, taking care of\u001b[39;00m\n\u001b[0;32m   (...)\u001b[0m\n\u001b[1;32m     30\u001b[0m \u001b[38;5;124;03m    asyncio.run(main())\u001b[39;00m\n\u001b[1;32m     31\u001b[0m \u001b[38;5;124;03m\"\"\"\u001b[39;00m\n\u001b[1;32m     32\u001b[0m \u001b[38;5;28;01mif\u001b[39;00m events\u001b[38;5;241m.\u001b[39m_get_running_loop() \u001b[38;5;129;01mis\u001b[39;00m \u001b[38;5;129;01mnot\u001b[39;00m \u001b[38;5;28;01mNone\u001b[39;00m:\n\u001b[0;32m---> 33\u001b[0m     \u001b[38;5;28;01mraise\u001b[39;00m \u001b[38;5;167;01mRuntimeError\u001b[39;00m(\n\u001b[1;32m     34\u001b[0m         \u001b[38;5;124m\"\u001b[39m\u001b[38;5;124masyncio.run() cannot be called from a running event loop\u001b[39m\u001b[38;5;124m\"\u001b[39m)\n\u001b[1;32m     36\u001b[0m \u001b[38;5;28;01mif\u001b[39;00m \u001b[38;5;129;01mnot\u001b[39;00m coroutines\u001b[38;5;241m.\u001b[39miscoroutine(main):\n\u001b[1;32m     37\u001b[0m     \u001b[38;5;28;01mraise\u001b[39;00m \u001b[38;5;167;01mValueError\u001b[39;00m(\u001b[38;5;124m\"\u001b[39m\u001b[38;5;124ma coroutine was expected, got \u001b[39m\u001b[38;5;132;01m{!r}\u001b[39;00m\u001b[38;5;124m\"\u001b[39m\u001b[38;5;241m.\u001b[39mformat(main))\n",
      "\u001b[0;31mRuntimeError\u001b[0m: asyncio.run() cannot be called from a running event loop"
     ]
    }
   ],
   "source": [
    "async def main():\n",
    "    async with planet.Session() as sess:\n",
    "        client = sess.client('orders')\n",
    "        print(client)\n",
    "        requests = create_requests()\n",
    "        \n",
    "        await asyncio.gather(*[\n",
    "            create_and_download(client, request, DOWNLOAD_DIR)\n",
    "            for request in requests\n",
    "        ])\n",
    "\n",
    "\n",
    "asyncio.run(main())"
   ]
  },
  {
   "cell_type": "code",
   "execution_count": null,
   "id": "7f796b10-f3e2-4a70-b99d-cf5a18ad4ab8",
   "metadata": {},
   "outputs": [],
   "source": []
  }
 ],
 "metadata": {
  "kernelspec": {
   "display_name": "Python 3 (ipykernel)",
   "language": "python",
   "name": "python3"
  },
  "language_info": {
   "codemirror_mode": {
    "name": "ipython",
    "version": 3
   },
   "file_extension": ".py",
   "mimetype": "text/x-python",
   "name": "python",
   "nbconvert_exporter": "python",
   "pygments_lexer": "ipython3",
   "version": "3.8.16"
  }
 },
 "nbformat": 4,
 "nbformat_minor": 5
}
